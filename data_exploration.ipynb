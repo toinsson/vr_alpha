{
 "cells": [
  {
   "cell_type": "code",
   "execution_count": null,
   "metadata": {},
   "outputs": [],
   "source": [
    "%matplotlib inline"
   ]
  },
  {
   "cell_type": "code",
   "execution_count": null,
   "metadata": {},
   "outputs": [],
   "source": [
    "import warnings\n",
    "warnings.filterwarnings('ignore')"
   ]
  },
  {
   "cell_type": "code",
   "execution_count": null,
   "metadata": {},
   "outputs": [],
   "source": [
    "from nbhelper import *"
   ]
  },
  {
   "cell_type": "markdown",
   "metadata": {},
   "source": [
    "This notebook presents some exploration and visualisation on two datasets. \n",
    "\n",
    "One was collected during the a pointing in VR experiment. 12 participants were asked to reach for a target in VR without real feedback. The end position of the reaching motion is recorded. There are 3 conditions: pointing with the left hand, pointing with the right hand, and pointing the right hand onto the left hand. For each condition, 7 targets indicate the location at which the pointing occurs.\n",
    "\n",
    "The second experiment is also a pointing experiment in VR but the visual feedback is manipulated so as to create the illusion of several targets being present in the scene. The positive and negative angles until which the illusion is believable are recorded. These are extracted from a series of trials which samples the illusion angles. A sigmoid fit is applied to the data and alpha +/- are reported from the sigmoid fit.\n",
    "\n",
    "The main idea behind these two datasets is to describe a relationship between the pointing behaviours of participants and their ability to discriminate against optical illusions.\n",
    "\n",
    "In other words, it is a regression task where we are looking for the relationship:\n",
    "$$\n",
    "y = f(x)\n",
    "$$\n",
    "where $y$ is the maximum deviation angle for successful optical illusions and $x$ is the user raw pointing performance."
   ]
  },
  {
   "cell_type": "markdown",
   "metadata": {},
   "source": [
    "# Read data"
   ]
  },
  {
   "cell_type": "code",
   "execution_count": null,
   "metadata": {},
   "outputs": [],
   "source": [
    "df0 = pd.read_csv('./data/Data1stExpe.csv')"
   ]
  },
  {
   "cell_type": "code",
   "execution_count": null,
   "metadata": {},
   "outputs": [],
   "source": [
    "df0.columns = ['user', 'condition', 'target', 'trial', 'tx', 'ty', 'px', 'py']"
   ]
  },
  {
   "cell_type": "code",
   "execution_count": null,
   "metadata": {},
   "outputs": [],
   "source": [
    "df0.head()"
   ]
  },
  {
   "cell_type": "code",
   "execution_count": null,
   "metadata": {},
   "outputs": [],
   "source": [
    "df1 = pd.read_csv('./data/Data2ndExpe.csv')"
   ]
  },
  {
   "cell_type": "code",
   "execution_count": null,
   "metadata": {},
   "outputs": [],
   "source": [
    "df1.columns = ['user', 'target', 'a-', 'a+']"
   ]
  },
  {
   "cell_type": "code",
   "execution_count": null,
   "metadata": {},
   "outputs": [],
   "source": [
    "df1.head()"
   ]
  },
  {
   "cell_type": "markdown",
   "metadata": {},
   "source": [
    "# all data from experiment #1"
   ]
  },
  {
   "cell_type": "code",
   "execution_count": null,
   "metadata": {},
   "outputs": [],
   "source": [
    "fig2 = plt.figure(constrained_layout=True, figsize=(12,12))\n",
    "spec2 = gridspec.GridSpec(ncols=4, nrows=4, figure=fig2)\n",
    "f2_ax1 = fig2.add_subplot(spec2[3, 0])\n",
    "f2_ax2 = fig2.add_subplot(spec2[2, 0])\n",
    "f2_ax3 = fig2.add_subplot(spec2[1, 0])\n",
    "f2_ax4 = fig2.add_subplot(spec2[0, 0])\n",
    "f2_ax5 = fig2.add_subplot(spec2[1, 1])\n",
    "f2_ax6 = fig2.add_subplot(spec2[2, 2])\n",
    "f2_ax7 = fig2.add_subplot(spec2[3, 3])\n",
    "axs = [f2_ax1, f2_ax2, f2_ax3, f2_ax4, f2_ax5, f2_ax6, f2_ax7]\n",
    "\n",
    "for i, (j, grp) in enumerate(df0.groupby(['target', 'condition'])):\n",
    "    target = j[0]\n",
    "    condition = j[1]\n",
    "    \n",
    "    scatter = axs[target-1].scatter(grp['px'], grp['py'], label='cdt: '+str(grp['condition'].iloc[0]))\n",
    "    axs[target-1].scatter(grp['tx'].mean(), grp['ty'].mean(), c='k', marker='x')\n",
    "    confidence_ellipse(grp['px'], grp['py'], axs[target-1], edgecolor=default_colors[condition-1])\n",
    "    \n",
    "    axs[target-1].set_title(\"target {}\".format(target))\n",
    "    \n",
    "_=axs[0].legend()\n",
    "_=fig2.suptitle('Per conditions, across targets.')"
   ]
  },
  {
   "cell_type": "markdown",
   "metadata": {},
   "source": [
    "# Is there a learning effect in the data?\n",
    "\n",
    "We can wonder whether there is an effect of trial on the pointing behaviour of users, or if we can safely take the mean of end positions."
   ]
  },
  {
   "cell_type": "code",
   "execution_count": null,
   "metadata": {},
   "outputs": [],
   "source": [
    "fig, ax = plt.subplots(1,3, figsize=(16,4))\n",
    "\n",
    "for i, grp in df0.groupby(['target', 'condition', 'user']):\n",
    "    target = i[0]\n",
    "    condition = i[1]\n",
    "    \n",
    "    if (target == 1) and (condition == 1):\n",
    "        grp.plot(y='px', use_index=False, ax=ax[0], legend=False)\n",
    "        grp.plot(y='py', use_index=False, ax=ax[1], legend=False)\n",
    "        grp.plot(x='px', y='py', ax=ax[2], legend=False)"
   ]
  },
  {
   "cell_type": "markdown",
   "metadata": {},
   "source": [
    "I do not have a definitive answer for this question but it might be useful to think about it. "
   ]
  },
  {
   "cell_type": "markdown",
   "metadata": {},
   "source": [
    "# user dependent effects in pointing\n",
    "\n",
    "Here we compute some summary statistics on the user data. Averaging over (user, condition and target), we compute the mean deviation from the target. We also compute the covariance matrix of the user point cloud, with the variance in both dimensions (vx and vy) and the covariance cxy between x and y."
   ]
  },
  {
   "cell_type": "code",
   "execution_count": null,
   "metadata": {},
   "outputs": [],
   "source": [
    "# deviation from target\n",
    "dx = df0.groupby(['target', 'condition', 'user']).apply(lambda x: x['px'].mean() - x['tx'].mean())\n",
    "dy = df0.groupby(['target', 'condition', 'user']).apply(lambda x: x['py'].mean() - x['ty'].mean())\n",
    "\n",
    "# dispersion from target\n",
    "vx = df0.groupby(['target', 'condition', 'user']).apply(lambda x: np.cov(x[['px', 'py']].T)[0,0])\n",
    "vy = df0.groupby(['target', 'condition', 'user']).apply(lambda x: np.cov(x[['px', 'py']].T)[1,1])\n",
    "cxy = df0.groupby(['target', 'condition', 'user']).apply(lambda x: np.cov(x[['px', 'py']].T)[0,1])"
   ]
  },
  {
   "cell_type": "code",
   "execution_count": null,
   "metadata": {},
   "outputs": [],
   "source": [
    "data0 = pd.concat([dx, dy, vx, vy, cxy], axis=1)\n",
    "data0.columns=['dx', 'dy', 'vx', 'vy', 'cxy']\n",
    "data0 = data0.reset_index()"
   ]
  },
  {
   "cell_type": "code",
   "execution_count": null,
   "metadata": {},
   "outputs": [],
   "source": [
    "data0.head()"
   ]
  },
  {
   "cell_type": "code",
   "execution_count": null,
   "metadata": {},
   "outputs": [],
   "source": [
    "fig2 = plt.figure(constrained_layout=True, figsize=(12,12))\n",
    "spec2 = gridspec.GridSpec(ncols=4, nrows=4, figure=fig2)\n",
    "f2_ax1 = fig2.add_subplot(spec2[3, 0])\n",
    "f2_ax2 = fig2.add_subplot(spec2[2, 0])\n",
    "f2_ax3 = fig2.add_subplot(spec2[1, 0])\n",
    "f2_ax4 = fig2.add_subplot(spec2[0, 0])\n",
    "f2_ax5 = fig2.add_subplot(spec2[1, 1])\n",
    "f2_ax6 = fig2.add_subplot(spec2[2, 2])\n",
    "f2_ax7 = fig2.add_subplot(spec2[3, 3])\n",
    "axs = [f2_ax1, f2_ax2, f2_ax3, f2_ax4, f2_ax5, f2_ax6, f2_ax7]\n",
    "\n",
    "for i, (j, grp) in enumerate(data0.groupby(['target', 'condition'])):\n",
    "    target = j[0]\n",
    "    condition = j[1]\n",
    "    \n",
    "    scatter = axs[target-1].scatter(grp['dx'], grp['dy'], label=grp['condition'].iloc[0])\n",
    "    axs[target-1].scatter(0, 0, c='k', marker='x')\n",
    "    \n",
    "    color = scatter.to_rgba(0)\n",
    "    confidence_ellipse(grp['dx'], grp['dy'], axs[target-1], edgecolor=default_colors[condition-1])\n",
    "    \n",
    "    axs[target-1].set_title(\"target {}\".format(target))\n",
    "\n",
    "    \n",
    "axs[0].legend()\n",
    "_=fig2.suptitle('Per conditions, across targets - deviation means from target.')"
   ]
  },
  {
   "cell_type": "code",
   "execution_count": null,
   "metadata": {},
   "outputs": [],
   "source": [
    "fig2 = plt.figure(constrained_layout=True, figsize=(12,12))\n",
    "spec2 = gridspec.GridSpec(ncols=4, nrows=4, figure=fig2)\n",
    "f2_ax1 = fig2.add_subplot(spec2[3, 0])\n",
    "f2_ax2 = fig2.add_subplot(spec2[2, 0])\n",
    "f2_ax3 = fig2.add_subplot(spec2[1, 0])\n",
    "f2_ax4 = fig2.add_subplot(spec2[0, 0])\n",
    "f2_ax5 = fig2.add_subplot(spec2[1, 1])\n",
    "f2_ax6 = fig2.add_subplot(spec2[2, 2])\n",
    "f2_ax7 = fig2.add_subplot(spec2[3, 3])\n",
    "axs = [f2_ax1, f2_ax2, f2_ax3, f2_ax4, f2_ax5, f2_ax6, f2_ax7]\n",
    "\n",
    "for i, (j, grp) in enumerate(data0.groupby(['target', 'condition'])):\n",
    "    target = j[0]\n",
    "    condition = j[1]\n",
    "    \n",
    "    if condition == 1:\n",
    "        sns.scatterplot(data=grp, x='dx', y='dy', hue='user', ax=axs[target-1], legend=False, palette='tab10')\n",
    "        axs[target-1].set_title(\"target {}\".format(target))\n",
    "\n",
    "_=fig2.suptitle('For one condition, across targets, deviation means from target with user colors.')"
   ]
  },
  {
   "cell_type": "code",
   "execution_count": null,
   "metadata": {},
   "outputs": [],
   "source": [
    "fig, ax = plt.subplots(3, 2, figsize=(12,16))\n",
    "\n",
    "for i, (j, grp) in enumerate(data0.groupby(['user', 'condition'])):\n",
    "    user = j[0]\n",
    "    condition = j[1]\n",
    "    \n",
    "    tmp = select(grp, target=[1,2,3,4])\n",
    "    tmp.plot(x='dx', y='dy', ax=ax[condition-1, 0], label=user)\n",
    "\n",
    "    tmp = select(grp, target=[3,5,6,7])\n",
    "    tmp.plot(x='dx', y='dy', ax=ax[condition-1, 1], label=user)\n",
    "\n",
    "    ax[condition-1, 0].set_title(\"target [1,2,3,4]\")\n",
    "    ax[condition-1, 1].set_title(\"target [3,5,6,7]\")\n",
    "    ax[condition-1, 0].set_ylabel(\"condition {}\".format(condition))"
   ]
  },
  {
   "cell_type": "code",
   "execution_count": null,
   "metadata": {},
   "outputs": [],
   "source": [
    "fig, ax = plt.subplots(3, 2, figsize=(12,16))\n",
    "\n",
    "for i, (j, grp) in enumerate(data0.groupby(['user', 'condition'])):\n",
    "    user = j[0]\n",
    "    condition = j[1]\n",
    "    \n",
    "    tmp = select(grp, target=[1,2,3,4])\n",
    "    tmp.plot(x='vx', y='vy', ax=ax[condition-1, 0], label=user)\n",
    "\n",
    "    tmp = select(grp, target=[3,5,6,7])\n",
    "    tmp.plot(x='vx', y='vy', ax=ax[condition-1, 1], label=user)\n",
    "\n",
    "    ax[condition-1, 0].set_title(\"target [1,2,3,4]\")\n",
    "    ax[condition-1, 1].set_title(\"target [3,5,6,7]\")\n",
    "    ax[condition-1, 0].set_ylabel(\"condition {}\".format(condition))"
   ]
  },
  {
   "cell_type": "code",
   "execution_count": null,
   "metadata": {},
   "outputs": [],
   "source": [
    "fig, ax = plt.subplots(3, 2, figsize=(12,16))\n",
    "\n",
    "for i, (j, grp) in enumerate(data0.groupby(['user', 'condition'])):\n",
    "    user = j[0]\n",
    "    condition = j[1]\n",
    "    \n",
    "    tmp = select(grp, target=[1,2,3,4])\n",
    "    tmp.plot(y='cxy', ax=ax[condition-1, 0], label=user, use_index=False)\n",
    "\n",
    "    tmp = select(grp, target=[3,5,6,7])\n",
    "    tmp.plot(y='cxy', ax=ax[condition-1, 1], label=user, use_index=False)\n",
    "\n",
    "    ax[condition-1, 0].set_title(\"target [1,2,3,4]\")\n",
    "    ax[condition-1, 1].set_title(\"target [3,5,6,7]\")\n",
    "    ax[condition-1, 0].set_ylabel(\"condition {}\".format(condition))"
   ]
  },
  {
   "cell_type": "code",
   "execution_count": null,
   "metadata": {},
   "outputs": [],
   "source": [
    "from ipywidgets import interact, interactive, fixed, interact_manual\n",
    "import ipywidgets as widgets"
   ]
  },
  {
   "cell_type": "code",
   "execution_count": null,
   "metadata": {},
   "outputs": [],
   "source": [
    "def plot_user_target_distributions(user=i):\n",
    "    fig2 = plt.figure(constrained_layout=True, figsize=(12,12))\n",
    "    spec2 = gridspec.GridSpec(ncols=4, nrows=4, figure=fig2)\n",
    "    f2_ax1 = fig2.add_subplot(spec2[3, 0])\n",
    "    f2_ax2 = fig2.add_subplot(spec2[2, 0])\n",
    "    f2_ax3 = fig2.add_subplot(spec2[1, 0])\n",
    "    f2_ax4 = fig2.add_subplot(spec2[0, 0])\n",
    "    f2_ax5 = fig2.add_subplot(spec2[1, 1])\n",
    "    f2_ax6 = fig2.add_subplot(spec2[2, 2])\n",
    "    f2_ax7 = fig2.add_subplot(spec2[3, 3])\n",
    "    axs = [f2_ax1, f2_ax2, f2_ax3, f2_ax4, f2_ax5, f2_ax6, f2_ax7]\n",
    "\n",
    "    for i, (j, grp) in enumerate(df0.groupby(['target', 'condition', 'user'])):\n",
    "        target = j[0]\n",
    "        condition = j[1]\n",
    "        cur_user = j[2]\n",
    "\n",
    "        if (cur_user == user):        \n",
    "            scatter = axs[target-1].scatter(grp['px'], grp['py'], label=grp['condition'].iloc[0])\n",
    "            axs[target-1].scatter(grp['tx'].mean(), grp['ty'].mean(), c='k', marker='x')\n",
    "            confidence_ellipse(grp['px'], grp['py'], axs[target-1], edgecolor=default_colors[condition-1])\n",
    "\n",
    "    axs[0].legend()\n",
    "    fig.suptitle(\"user {}\".format(user))\n",
    "#     fig.show()"
   ]
  },
  {
   "cell_type": "code",
   "execution_count": null,
   "metadata": {
    "scrolled": false
   },
   "outputs": [],
   "source": [
    "slider = widgets.IntSlider(min=1, max=12, step=1, value=1)\n",
    "_=interact(plot_user_target_distributions, user=slider)"
   ]
  },
  {
   "cell_type": "code",
   "execution_count": null,
   "metadata": {},
   "outputs": [],
   "source": [
    "select(data0, condition=3)['vx'].hist()\n",
    "select(data0, condition=3)['vy'].hist()"
   ]
  },
  {
   "cell_type": "markdown",
   "metadata": {},
   "source": [
    "# Plot data experiment 2"
   ]
  },
  {
   "cell_type": "code",
   "execution_count": null,
   "metadata": {},
   "outputs": [],
   "source": [
    "df1.head()"
   ]
  },
  {
   "cell_type": "code",
   "execution_count": null,
   "metadata": {},
   "outputs": [],
   "source": [
    "df1['da'] = df1['a+'] - df1['a-']"
   ]
  },
  {
   "cell_type": "code",
   "execution_count": null,
   "metadata": {},
   "outputs": [],
   "source": [
    "fig, axs = plt.subplots(1,4, figsize=(16,4))\n",
    "axs = axs.flatten()\n",
    "\n",
    "# for i, grp in df1.groupby('target'):\n",
    "#     ax = axs[i-1]\n",
    "#     grp['-a-'] = -grp['a-']\n",
    "#     grp.plot(x='user', y='-a-', ax=ax)\n",
    "\n",
    "for i, grp in df1.groupby('target'):\n",
    "    ax = axs[i-1]\n",
    "    grp.plot(x='user', y='a-', ax=ax)\n",
    "    \n",
    "for i, grp in df1.groupby('target'):\n",
    "    ax = axs[i-1]\n",
    "    grp.plot(x='user', y='a+', ax=ax)\n",
    "    \n",
    "for i, grp in df1.groupby('target'):\n",
    "    ax = axs[i-1]\n",
    "    grp.plot(x='user', y='da', ax=ax)\n",
    "    ax.set_title(\"target {}\".format(i))"
   ]
  },
  {
   "cell_type": "markdown",
   "metadata": {},
   "source": [
    "We find that a+ and a- seem to be correlated across users and targets."
   ]
  },
  {
   "cell_type": "code",
   "execution_count": null,
   "metadata": {},
   "outputs": [],
   "source": [
    "fig, ax = plt.subplots()\n",
    "\n",
    "for i, grp in df1.groupby('target'):\n",
    "    grp.plot(x='user', y='da', ax=ax, label=i)\n",
    "    ax.set_title(\"all targets\")"
   ]
  },
  {
   "cell_type": "markdown",
   "metadata": {},
   "source": [
    "This picture makes me feel that the value for alpha is independent of the target. In other words, the position at which the illusion occurs does not play a role on its validity - in the conditions of the experiment."
   ]
  },
  {
   "cell_type": "markdown",
   "metadata": {},
   "source": [
    "## Distributions of da\n",
    "\n",
    "It can be interesting to investigate the distribution of da, as this will be the variable we want to predict from the pointing behaviour of users. "
   ]
  },
  {
   "cell_type": "code",
   "execution_count": null,
   "metadata": {},
   "outputs": [],
   "source": [
    "df1['da'].hist()"
   ]
  },
  {
   "cell_type": "markdown",
   "metadata": {},
   "source": [
    "It seems to be normally distributed in log space."
   ]
  },
  {
   "cell_type": "code",
   "execution_count": null,
   "metadata": {},
   "outputs": [],
   "source": [
    "df1['exp_da'] = np.exp(df1['da'])"
   ]
  },
  {
   "cell_type": "code",
   "execution_count": null,
   "metadata": {},
   "outputs": [],
   "source": [
    "df1['exp_da'].hist()"
   ]
  },
  {
   "cell_type": "code",
   "execution_count": null,
   "metadata": {},
   "outputs": [],
   "source": []
  },
  {
   "cell_type": "code",
   "execution_count": null,
   "metadata": {},
   "outputs": [],
   "source": [
    "fig, ax = plt.subplots(1, 2, figsize=(12,6))\n",
    "\n",
    "# target on alpha\n",
    "means = df1.groupby('target')[['a-', 'a+']].mean()\n",
    "stds = df1.groupby('target')[['a-', 'a+']].std()\n",
    "\n",
    "means.plot(ax=ax[0])\n",
    "ax[0].fill_between(np.arange(1,5), means['a-']-stds['a-'], means['a-']+stds['a-'], color='k', alpha=0.1)\n",
    "ax[0].fill_between(np.arange(1,5), means['a+']-stds['a+'], means['a+']+stds['a+'], color='k', alpha=0.1)\n",
    "ax[0].set_xticks(np.arange(1,5))\n",
    "ax[0].grid()\n",
    "\n",
    "# user on alpha\n",
    "means = df1.groupby('user')[['a-', 'a+']].mean()\n",
    "stds = df1.groupby('user')[['a-', 'a+']].std()\n",
    "\n",
    "means.plot(ax=ax[1])\n",
    "ax[1].fill_between(np.arange(1,13), means['a-']-stds['a-'], means['a-']+stds['a-'], color='k', alpha=0.1)\n",
    "ax[1].fill_between(np.arange(1,13), means['a+']-stds['a+'], means['a+']+stds['a+'], color='k', alpha=0.1)\n",
    "ax[1].set_xticks(np.arange(1,13))\n",
    "ax[1].grid()"
   ]
  },
  {
   "cell_type": "markdown",
   "metadata": {},
   "source": [
    "There does not seem to be a clear effect of target on alpha, as the mean over user is very noisy. There is however a strong user dependence on the value of alpha."
   ]
  },
  {
   "cell_type": "markdown",
   "metadata": {},
   "source": [
    "# relation between pointing performance and alpha?\n",
    "\n",
    "Given the structure of the data in terms of dependence of alpha against target and user, it seems more interesting to attempt to model the relationship between alpha and users."
   ]
  },
  {
   "cell_type": "code",
   "execution_count": null,
   "metadata": {},
   "outputs": [],
   "source": [
    "a = df1.groupby('user').mean()['da']\n",
    "b = select(data0, condition=3).groupby('user').mean()[['dx', 'dy']].apply(np.linalg.norm, axis=1)\n",
    "plt.scatter(b, a)"
   ]
  },
  {
   "cell_type": "markdown",
   "metadata": {},
   "source": [
    "This is a naive plot, but it shows a potentially interesting relation: the lower the pointing deviation, the lower is alpha. As the pointing deviation increases, the likelihood of alpha increases too. We also have a bigger spread for alpha, as the pointing deviation increases. It is like a \"trumpet\"."
   ]
  },
  {
   "cell_type": "code",
   "execution_count": null,
   "metadata": {},
   "outputs": [],
   "source": [
    "a = df1.groupby('user').mean()['da']\n",
    "c = select(data0, condition=1).groupby('user').mean()['vx']\n",
    "d = select(data0, condition=3).groupby('user').mean()['vx']\n",
    "\n",
    "fig, ax = plt.subplots()\n",
    "ax.scatter(d/c, a)"
   ]
  },
  {
   "cell_type": "markdown",
   "metadata": {},
   "source": [
    "If we check the ratio of the variance across x, we find this curve."
   ]
  },
  {
   "cell_type": "code",
   "execution_count": null,
   "metadata": {},
   "outputs": [],
   "source": []
  },
  {
   "cell_type": "code",
   "execution_count": null,
   "metadata": {},
   "outputs": [],
   "source": [
    "c = select(data0, condition=1).groupby('user').mean()[['dx', 'dy']].apply(np.linalg.norm, axis=1)"
   ]
  },
  {
   "cell_type": "code",
   "execution_count": null,
   "metadata": {},
   "outputs": [],
   "source": [
    "d = select(data0, condition=2).groupby('user').mean()[['dx', 'dy']].apply(np.linalg.norm, axis=1)"
   ]
  },
  {
   "cell_type": "markdown",
   "metadata": {},
   "source": [
    "# predict da from (dx, dy, vx, vy, cxy) in conditions 1,2,3\n",
    "\n",
    "To do so, we will first create our X and y vectors."
   ]
  },
  {
   "cell_type": "code",
   "execution_count": null,
   "metadata": {},
   "outputs": [],
   "source": [
    "data0.head()"
   ]
  },
  {
   "cell_type": "code",
   "execution_count": null,
   "metadata": {},
   "outputs": [],
   "source": [
    "X = data0.set_index(['target', 'user', 'condition']).unstack()"
   ]
  },
  {
   "cell_type": "code",
   "execution_count": null,
   "metadata": {},
   "outputs": [],
   "source": [
    "X = X.reset_index()"
   ]
  },
  {
   "cell_type": "code",
   "execution_count": null,
   "metadata": {},
   "outputs": [],
   "source": [
    "# this removes the multiindex from columns, and creates a simpler single index\n",
    "new_cols = [str(i)+str(j) for (i,j) in pd.Index(X.columns._values, tupleize_cols=False)]"
   ]
  },
  {
   "cell_type": "code",
   "execution_count": null,
   "metadata": {},
   "outputs": [],
   "source": [
    "X.columns = new_cols"
   ]
  },
  {
   "cell_type": "code",
   "execution_count": null,
   "metadata": {},
   "outputs": [],
   "source": [
    "X.head()"
   ]
  },
  {
   "cell_type": "code",
   "execution_count": null,
   "metadata": {},
   "outputs": [],
   "source": [
    "df1.head()"
   ]
  },
  {
   "cell_type": "code",
   "execution_count": null,
   "metadata": {},
   "outputs": [],
   "source": [
    "y = X[['target', 'user']].copy()\n",
    "y['da'] = pd.Series()\n",
    "y = y.set_index(['target', 'user'])"
   ]
  },
  {
   "cell_type": "markdown",
   "metadata": {},
   "source": [
    "## a. with targets repeated: 7 targets * 12 users\n",
    "\n",
    "Here, we consider that measurements in experiment 1 and targets [1,2,3,4] are related to the measurement of target 1 in experiment 2, while 5, 6 and 7 are linked to 2, 3 and 4, respectively."
   ]
  },
  {
   "cell_type": "code",
   "execution_count": null,
   "metadata": {},
   "outputs": [],
   "source": [
    "for i, row in X.iterrows():\n",
    "    user = row['user']\n",
    "    target = row['target']\n",
    "    \n",
    "    target_map = {1:1, 2:1, 3:1, 4:1, 5:2, 6:3, 7:4}\n",
    "    y.loc[target, user] = df1.set_index(['target', 'user']).loc[target_map[target], user]['da']"
   ]
  },
  {
   "cell_type": "code",
   "execution_count": null,
   "metadata": {},
   "outputs": [],
   "source": [
    "y = y.reset_index()"
   ]
  },
  {
   "cell_type": "code",
   "execution_count": null,
   "metadata": {},
   "outputs": [],
   "source": [
    "y.head()"
   ]
  },
  {
   "cell_type": "code",
   "execution_count": null,
   "metadata": {},
   "outputs": [],
   "source": [
    "import tensorflow as tf\n",
    "from tensorflow import keras\n",
    "from tensorflow.keras import layers"
   ]
  },
  {
   "cell_type": "code",
   "execution_count": null,
   "metadata": {},
   "outputs": [],
   "source": [
    "model = keras.Sequential(\n",
    "    [\n",
    "        layers.Dense(2, activation=\"relu\", name=\"layer1\"),\n",
    "        layers.Dense(3, activation=\"relu\", name=\"layer2\"),\n",
    "        layers.Dense(4, name=\"layer3\"),\n",
    "    ]\n",
    ")"
   ]
  },
  {
   "cell_type": "code",
   "execution_count": null,
   "metadata": {},
   "outputs": [],
   "source": [
    "inputs = keras.Input(shape=(15,))\n",
    "x = layers.Dense(15, activation='relu')(inputs)\n",
    "x = layers.Dense(15, activation='relu')(x)\n",
    "outputs = layers.Dense(1)(x)\n",
    "model = keras.Model(inputs, outputs)"
   ]
  },
  {
   "cell_type": "code",
   "execution_count": null,
   "metadata": {},
   "outputs": [],
   "source": [
    "model.summary()"
   ]
  },
  {
   "cell_type": "code",
   "execution_count": null,
   "metadata": {},
   "outputs": [],
   "source": [
    "model.compile(loss='mse', \n",
    "              optimizer=keras.optimizers.SGD())"
   ]
  },
  {
   "cell_type": "code",
   "execution_count": null,
   "metadata": {},
   "outputs": [],
   "source": [
    "history = model.fit(X.iloc[:, 2:], y['da'].values, batch_size=16, epochs=200, validation_split=0.2)"
   ]
  },
  {
   "cell_type": "code",
   "execution_count": null,
   "metadata": {},
   "outputs": [],
   "source": [
    "plt.plot(history.history['loss'])\n",
    "plt.plot(history.history['val_loss'])"
   ]
  },
  {
   "cell_type": "code",
   "execution_count": null,
   "metadata": {},
   "outputs": [],
   "source": [
    "y_pred = model.predict(X.iloc[:, 2:])"
   ]
  },
  {
   "cell_type": "code",
   "execution_count": null,
   "metadata": {},
   "outputs": [],
   "source": [
    "plt.plot(y['da'])\n",
    "plt.plot(y_pred)"
   ]
  },
  {
   "cell_type": "markdown",
   "metadata": {},
   "source": [
    "## b. with only 4 targets"
   ]
  },
  {
   "cell_type": "code",
   "execution_count": null,
   "metadata": {},
   "outputs": [],
   "source": [
    "X4 = select(X, target=[3,5,6,7]).iloc[:, 2:]"
   ]
  },
  {
   "cell_type": "code",
   "execution_count": null,
   "metadata": {},
   "outputs": [],
   "source": [
    "y4 = select(y, target=[3,5,6,7])['da'].values"
   ]
  },
  {
   "cell_type": "code",
   "execution_count": null,
   "metadata": {},
   "outputs": [],
   "source": [
    "inputs = keras.Input(shape=(15,))\n",
    "x = layers.Dense(17, activation='relu')(inputs)\n",
    "x = layers.Dense(17, activation='relu')(x)\n",
    "outputs = layers.Dense(1)(x)\n",
    "model = keras.Model(inputs, outputs)"
   ]
  },
  {
   "cell_type": "code",
   "execution_count": null,
   "metadata": {},
   "outputs": [],
   "source": [
    "model.summary()"
   ]
  },
  {
   "cell_type": "code",
   "execution_count": null,
   "metadata": {},
   "outputs": [],
   "source": [
    "model.compile(loss='mse', \n",
    "              optimizer=keras.optimizers.SGD())"
   ]
  },
  {
   "cell_type": "code",
   "execution_count": null,
   "metadata": {},
   "outputs": [],
   "source": [
    "history = model.fit(X4, y4, batch_size=16, epochs=200, validation_split=0.2)"
   ]
  },
  {
   "cell_type": "code",
   "execution_count": null,
   "metadata": {},
   "outputs": [],
   "source": [
    "plt.plot(history.history['loss'])\n",
    "plt.plot(history.history['val_loss'])"
   ]
  },
  {
   "cell_type": "code",
   "execution_count": null,
   "metadata": {},
   "outputs": [],
   "source": [
    "y4_pred = model.predict(X4)"
   ]
  },
  {
   "cell_type": "code",
   "execution_count": null,
   "metadata": {},
   "outputs": [],
   "source": [
    "plt.plot(y4)\n",
    "plt.plot(y4_pred)"
   ]
  },
  {
   "cell_type": "code",
   "execution_count": null,
   "metadata": {},
   "outputs": [],
   "source": []
  },
  {
   "cell_type": "code",
   "execution_count": null,
   "metadata": {},
   "outputs": [],
   "source": []
  },
  {
   "cell_type": "code",
   "execution_count": null,
   "metadata": {},
   "outputs": [],
   "source": []
  },
  {
   "cell_type": "markdown",
   "metadata": {},
   "source": [
    "# check model generalisation with cross-validation"
   ]
  },
  {
   "cell_type": "code",
   "execution_count": null,
   "metadata": {},
   "outputs": [],
   "source": [
    "from sklearn.model_selection import KFold, RepeatedKFold"
   ]
  },
  {
   "cell_type": "code",
   "execution_count": null,
   "metadata": {},
   "outputs": [],
   "source": [
    "kf = KFold(n_splits=12)\n",
    "rkf = RepeatedKFold(n_splits=4, n_repeats=3, random_state=1234)"
   ]
  },
  {
   "cell_type": "code",
   "execution_count": null,
   "metadata": {},
   "outputs": [],
   "source": [
    "for train, test in kf.split(np.arange(1,13)):\n",
    "    print(\"%s %s\" % (train, test))"
   ]
  },
  {
   "cell_type": "code",
   "execution_count": null,
   "metadata": {},
   "outputs": [],
   "source": [
    "for train, test in rkf.split(np.arange(1,13)):\n",
    "    print(\"%s %s\" % (train, test))"
   ]
  },
  {
   "cell_type": "code",
   "execution_count": null,
   "metadata": {},
   "outputs": [],
   "source": [
    "def get_model():\n",
    "    inputs = keras.Input(shape=(15,))\n",
    "    x = layers.Dense(4, activation='relu')(inputs)\n",
    "    outputs = layers.Dense(1)(x)\n",
    "    model = keras.Model(inputs, outputs)\n",
    "    model.compile(loss='mse', optimizer=keras.optimizers.SGD())\n",
    "    return model"
   ]
  },
  {
   "cell_type": "code",
   "execution_count": null,
   "metadata": {},
   "outputs": [],
   "source": [
    "res = []\n",
    "\n",
    "for i, (train, test) in enumerate(rkf.split(np.arange(1,13))):\n",
    "    print(\"{}: {} {}\".format(i, train, test))\n",
    "\n",
    "    model = get_model()\n",
    "    \n",
    "    grouped = X.groupby('user')\n",
    "    x_train = pd.concat([grouped.get_group(i+1) for i in train]).iloc[:, 2:]\n",
    "    x_test = pd.concat([grouped.get_group(i+1) for i in test]).iloc[:, 2:]\n",
    "    grouped = y.groupby('user')\n",
    "    y_train = pd.concat([grouped.get_group(i+1) for i in train])['da'].values\n",
    "    y_test = pd.concat([grouped.get_group(i+1) for i in test])['da'].values\n",
    "    \n",
    "    history = model.fit(x_train, y_train, batch_size=2, epochs=25, validation_split=0.2, verbose=0)\n",
    "    y_pred = model.predict(x_test)\n",
    "    loss = model.evaluate(x_test, y_test)\n",
    "    res.append((loss, y_test, y_pred))"
   ]
  },
  {
   "cell_type": "code",
   "execution_count": null,
   "metadata": {},
   "outputs": [],
   "source": [
    "loss = [tmp[0] for tmp in res]\n",
    "y_test = np.array([tmp[1] for tmp in res])\n",
    "y_pred = np.array([tmp[2] for tmp in res])"
   ]
  },
  {
   "cell_type": "code",
   "execution_count": null,
   "metadata": {},
   "outputs": [],
   "source": [
    "plt.plot(loss)"
   ]
  },
  {
   "cell_type": "code",
   "execution_count": null,
   "metadata": {},
   "outputs": [],
   "source": [
    "plt.plot(y_test[7])\n",
    "plt.plot(y_pred[7])"
   ]
  },
  {
   "cell_type": "code",
   "execution_count": null,
   "metadata": {},
   "outputs": [],
   "source": [
    "plt.hist(y['da'])\n",
    "plt.hist(y_pred.reshape(-1), alpha=0.2)"
   ]
  },
  {
   "cell_type": "code",
   "execution_count": null,
   "metadata": {},
   "outputs": [],
   "source": [
    "plt.hist(y_pred.reshape(-1))"
   ]
  },
  {
   "cell_type": "code",
   "execution_count": null,
   "metadata": {},
   "outputs": [],
   "source": [
    "model = get_model()"
   ]
  },
  {
   "cell_type": "code",
   "execution_count": null,
   "metadata": {},
   "outputs": [],
   "source": [
    "model = get_model()\n",
    "\n",
    "model.fit(x_train, y_train, batch_size=16, epochs=25, validation_split=0.2)\n",
    "\n",
    "model.evaluate(x_test, y_test)"
   ]
  },
  {
   "cell_type": "code",
   "execution_count": null,
   "metadata": {},
   "outputs": [],
   "source": [
    "X0.shape"
   ]
  },
  {
   "cell_type": "code",
   "execution_count": null,
   "metadata": {},
   "outputs": [],
   "source": [
    "x_train, x_test = X.iloc[:50, 2:], X.iloc[50:, 2:]\n",
    "y_train, y_test = y['da'].values[:50], y['da'].values[50:]"
   ]
  },
  {
   "cell_type": "code",
   "execution_count": null,
   "metadata": {},
   "outputs": [],
   "source": [
    "X0 = X.iloc[0, 2:].values"
   ]
  },
  {
   "cell_type": "code",
   "execution_count": null,
   "metadata": {},
   "outputs": [],
   "source": [
    "X0.reshape(1,15)"
   ]
  },
  {
   "cell_type": "code",
   "execution_count": null,
   "metadata": {},
   "outputs": [],
   "source": [
    "model.predict(X0.reshape(1,15))"
   ]
  },
  {
   "cell_type": "code",
   "execution_count": null,
   "metadata": {},
   "outputs": [],
   "source": [
    "ypred = model.predict(X.iloc[:, 2:])"
   ]
  },
  {
   "cell_type": "code",
   "execution_count": null,
   "metadata": {},
   "outputs": [],
   "source": [
    "y['da']"
   ]
  },
  {
   "cell_type": "code",
   "execution_count": null,
   "metadata": {},
   "outputs": [],
   "source": [
    "pd.DataFrame(ypred)"
   ]
  },
  {
   "cell_type": "code",
   "execution_count": null,
   "metadata": {},
   "outputs": [],
   "source": [
    "y['da'].hist()"
   ]
  },
  {
   "cell_type": "code",
   "execution_count": null,
   "metadata": {},
   "outputs": [],
   "source": [
    "(ypred.reshape(-1) - y['da']).mean()"
   ]
  },
  {
   "cell_type": "code",
   "execution_count": null,
   "metadata": {},
   "outputs": [],
   "source": [
    "(ypred.reshape(-1) - y['da']).std()"
   ]
  },
  {
   "cell_type": "markdown",
   "metadata": {},
   "source": [
    "# using GPs"
   ]
  },
  {
   "cell_type": "code",
   "execution_count": null,
   "metadata": {},
   "outputs": [],
   "source": []
  }
 ],
 "metadata": {
  "anaconda-cloud": {},
  "kernelspec": {
   "display_name": "Python 3",
   "language": "python",
   "name": "python3"
  },
  "language_info": {
   "codemirror_mode": {
    "name": "ipython",
    "version": 3
   },
   "file_extension": ".py",
   "mimetype": "text/x-python",
   "name": "python",
   "nbconvert_exporter": "python",
   "pygments_lexer": "ipython3",
   "version": "3.8.5"
  }
 },
 "nbformat": 4,
 "nbformat_minor": 4
}
